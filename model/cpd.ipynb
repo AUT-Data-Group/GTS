{
 "metadata": {
  "language_info": {
   "codemirror_mode": {
    "name": "ipython",
    "version": 3
   },
   "file_extension": ".py",
   "mimetype": "text/x-python",
   "name": "python",
   "nbconvert_exporter": "python",
   "pygments_lexer": "ipython3",
   "version": "3.8.3-final"
  },
  "orig_nbformat": 2,
  "kernelspec": {
   "name": "python3",
   "display_name": "Python 3",
   "language": "python"
  }
 },
 "nbformat": 4,
 "nbformat_minor": 2,
 "cells": [
  {
   "cell_type": "code",
   "execution_count": 10,
   "metadata": {},
   "outputs": [],
   "source": [
    "import tensorly as tl\n",
    "from tensorly.decomposition import *\n",
    "import numpy as np"
   ]
  },
  {
   "cell_type": "code",
   "execution_count": 3,
   "metadata": {},
   "outputs": [],
   "source": [
    "tensor = tl.tensor(np.arange(24).reshape((3, 4, 2)), dtype=tl.float64)"
   ]
  },
  {
   "cell_type": "code",
   "execution_count": 5,
   "metadata": {},
   "outputs": [],
   "source": [
    "noise = tl.tensor(np.random.normal(loc=0.0, scale=1.0, size=(3,4,2)))"
   ]
  },
  {
   "cell_type": "code",
   "execution_count": 7,
   "metadata": {},
   "outputs": [
    {
     "output_type": "execute_result",
     "data": {
      "text/plain": [
       "(array([[[ 0.,  1.],\n",
       "         [ 2.,  3.],\n",
       "         [ 4.,  5.],\n",
       "         [ 6.,  7.]],\n",
       " \n",
       "        [[ 8.,  9.],\n",
       "         [10., 11.],\n",
       "         [12., 13.],\n",
       "         [14., 15.]],\n",
       " \n",
       "        [[16., 17.],\n",
       "         [18., 19.],\n",
       "         [20., 21.],\n",
       "         [22., 23.]]]),\n",
       " array([[[ 2.78752979e-02, -7.93600200e-01],\n",
       "         [-1.90287840e+00, -5.32584200e-01],\n",
       "         [-7.00455731e-01, -1.69541825e-01],\n",
       "         [ 1.93943086e+00,  1.27977697e-04]],\n",
       " \n",
       "        [[-3.64059633e-02, -3.84900476e-01],\n",
       "         [ 2.18249318e-01, -4.58355652e-01],\n",
       "         [-4.73355648e-02, -6.89360537e-01],\n",
       "         [ 9.77605638e-02,  6.82000123e-01]],\n",
       " \n",
       "        [[ 1.83419886e+00,  4.58955907e-01],\n",
       "         [ 8.65315927e-01,  4.05372191e-01],\n",
       "         [-1.23678324e+00, -2.24022834e-01],\n",
       "         [-4.60143454e-01, -1.20177021e+00]]]))"
      ]
     },
     "metadata": {},
     "execution_count": 7
    }
   ],
   "source": [
    "tensor, noise"
   ]
  },
  {
   "cell_type": "code",
   "execution_count": 8,
   "metadata": {},
   "outputs": [],
   "source": [
    "nz = tensor + noise"
   ]
  },
  {
   "cell_type": "code",
   "execution_count": 9,
   "metadata": {},
   "outputs": [
    {
     "output_type": "execute_result",
     "data": {
      "text/plain": [
       "array([[[ 0.0278753 ,  0.2063998 ],\n",
       "        [ 0.0971216 ,  2.4674158 ],\n",
       "        [ 3.29954427,  4.83045818],\n",
       "        [ 7.93943086,  7.00012798]],\n",
       "\n",
       "       [[ 7.96359404,  8.61509952],\n",
       "        [10.21824932, 10.54164435],\n",
       "        [11.95266444, 12.31063946],\n",
       "        [14.09776056, 15.68200012]],\n",
       "\n",
       "       [[17.83419886, 17.45895591],\n",
       "        [18.86531593, 19.40537219],\n",
       "        [18.76321676, 20.77597717],\n",
       "        [21.53985655, 21.79822979]]])"
      ]
     },
     "metadata": {},
     "execution_count": 9
    }
   ],
   "source": [
    "nz"
   ]
  },
  {
   "cell_type": "code",
   "execution_count": 12,
   "metadata": {},
   "outputs": [],
   "source": [
    "x = CP_NN_HALS(4).fit_transform(nz)"
   ]
  },
  {
   "cell_type": "code",
   "execution_count": 17,
   "metadata": {},
   "outputs": [
    {
     "output_type": "execute_result",
     "data": {
      "text/plain": [
       "((3, 4), (4, 4), (2, 4))"
      ]
     },
     "metadata": {},
     "execution_count": 17
    }
   ],
   "source": [
    "x[1][0].shape, x[1][1].shape, x[1][2].shape"
   ]
  },
  {
   "cell_type": "code",
   "execution_count": 18,
   "metadata": {},
   "outputs": [],
   "source": [
    "from tensorly import tenalg"
   ]
  },
  {
   "cell_type": "code",
   "execution_count": 26,
   "metadata": {},
   "outputs": [],
   "source": [
    "R = 4\n",
    "T = tl.tensor(np.zeros((3,4,2), dtype=tl.float64))\n",
    "for i in range(R):\n",
    "    T += tenalg.outer((x[1][0][:,i], x[1][1][:,i], x[1][2][:,i]))"
   ]
  },
  {
   "cell_type": "code",
   "execution_count": 33,
   "metadata": {},
   "outputs": [
    {
     "output_type": "execute_result",
     "data": {
      "text/plain": [
       "4.063976330341656"
      ]
     },
     "metadata": {},
     "execution_count": 33
    }
   ],
   "source": [
    "tl.norm((T - tensor), 2)"
   ]
  },
  {
   "cell_type": "code",
   "execution_count": 57,
   "metadata": {},
   "outputs": [],
   "source": [
    "def meth(algo, noise, X, rank=4):\n",
    "    if not issubclass(algo,CP_NN):\n",
    "        x = algo(rank).fit_transform(noise)\n",
    "    else:\n",
    "        x = algo(rank).fit_transform(rank)\n",
    "    T = tl.tensor(np.zeros((3,4,2), dtype=tl.float64))\n",
    "    for i in range(rank):\n",
    "        T += tenalg.outer((x[1][0][:,i], x[1][1][:,i], x[1][2][:,i]))\n",
    "    return tl.norm((T - X), 2)"
   ]
  },
  {
   "cell_type": "code",
   "execution_count": 49,
   "metadata": {},
   "outputs": [
    {
     "output_type": "execute_result",
     "data": {
      "text/plain": [
       "3.978575846479921"
      ]
     },
     "metadata": {},
     "execution_count": 49
    }
   ],
   "source": [
    "meth(CP_NN_HALS, nz, tensor)"
   ]
  },
  {
   "cell_type": "code",
   "execution_count": 50,
   "metadata": {},
   "outputs": [
    {
     "output_type": "execute_result",
     "data": {
      "text/plain": [
       "4.209555107852045"
      ]
     },
     "metadata": {},
     "execution_count": 50
    }
   ],
   "source": [
    "meth(CP, nz, tensor)"
   ]
  },
  {
   "cell_type": "code",
   "execution_count": 51,
   "metadata": {},
   "outputs": [
    {
     "output_type": "execute_result",
     "data": {
      "text/plain": [
       "64.7170320454428"
      ]
     },
     "metadata": {},
     "execution_count": 51
    }
   ],
   "source": [
    "meth(CPPower, nz, tensor)"
   ]
  },
  {
   "cell_type": "code",
   "execution_count": 1,
   "metadata": {},
   "outputs": [],
   "source": [
    "from sklearn.datasets import fetch_20newsgroups"
   ]
  },
  {
   "cell_type": "code",
   "execution_count": 12,
   "metadata": {},
   "outputs": [],
   "source": [
    "newsgroups_train = fetch_20newsgroups(subset='train', categories=[\"misc.forsale\", \"alt.atheism\", \"sci.space\", \"rec.sport.baseball\"])"
   ]
  },
  {
   "cell_type": "code",
   "execution_count": 13,
   "metadata": {},
   "outputs": [],
   "source": [
    "from pprint import pprint"
   ]
  },
  {
   "cell_type": "code",
   "execution_count": 14,
   "metadata": {},
   "outputs": [
    {
     "output_type": "stream",
     "name": "stdout",
     "text": [
      "['alt.atheism', 'misc.forsale', 'rec.sport.baseball', 'sci.space']\n"
     ]
    }
   ],
   "source": [
    "pprint(list(newsgroups_train.target_names))"
   ]
  },
  {
   "cell_type": "code",
   "execution_count": 29,
   "metadata": {},
   "outputs": [],
   "source": [
    "docs = {0:[], 1: [], 2: [], 3: []}\n",
    "for i in range(len(newsgroups_train.target)):\n",
    "    docs[newsgroups_train.target[i]].append(newsgroups_train.data[i]) "
   ]
  },
  {
   "cell_type": "code",
   "execution_count": 33,
   "metadata": {},
   "outputs": [
    {
     "output_type": "execute_result",
     "data": {
      "text/plain": [
       "(480, 585, 597, 593)"
      ]
     },
     "metadata": {},
     "execution_count": 33
    }
   ],
   "source": [
    "len(docs[0]), len(docs[1]), len(docs[2]), len(docs[3])"
   ]
  },
  {
   "cell_type": "code",
   "execution_count": null,
   "metadata": {},
   "outputs": [],
   "source": []
  }
 ]
}